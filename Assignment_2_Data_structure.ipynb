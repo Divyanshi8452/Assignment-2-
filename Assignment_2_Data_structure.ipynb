{
  "nbformat": 4,
  "nbformat_minor": 0,
  "metadata": {
    "colab": {
      "provenance": []
    },
    "kernelspec": {
      "name": "python3",
      "display_name": "Python 3"
    },
    "language_info": {
      "name": "python"
    }
  },
  "cells": [
    {
      "cell_type": "markdown",
      "source": [
        "#**Data Types and Structures Questions**\n",
        "1. What are data structures, and why are they important?\n",
        "--> Data structure is the way of organizing and storing data so that it can be accesed and manipulated effeciently.\n",
        "They important because:\n",
        "1.Faster access\n",
        "2.Better Organization\n",
        "3.Saves memory and time\n",
        "4.Solves problems effeciently\n",
        "\n",
        "2.  Explain the difference between mutable and immutable data types with examples?\n",
        "-->\n",
        "*   Mutable - changable\n",
        "The data that can be change after it was created.\n",
        "eg: my_list = [1, 2, 3]\n",
        "my_list.append(4)   \n",
        "# Now it's [1, 2, 3, 4]\n",
        "\n",
        "*   Imutable - Unchangable\n",
        "The data which cannot change after it was created.\n",
        "eg: my_string = \"hello\"\n",
        "my_string[0] = \"H\"  \n",
        "# This will give an error\n",
        "\n",
        "3. What are the main differences between lists and tuples in Python?\n",
        "--> **Lists**\n",
        "You can store anything in list, can store heterogenous data\n",
        "List is an ordered collection of elements that can be of any data type.\n",
        "List are mutable.\n",
        "**Tuplers**\n",
        "Tuples are immutable.\n",
        "Tuples can store heterogeneous.\n",
        "Once it created, the items in a tuple cannot be changed.\n",
        "\n",
        "4. Describe how dictionaries store data.\n",
        "--> It stores data in pairs:\n",
        "One part is the key (like a name or label)\n",
        "The other part is the value (the actual data)\n",
        "\n",
        "5. Why might you use a set instead of a list in Python?\n",
        "--> A set is like a bag of unique items — no duplicates allowed.\n",
        "sets are unordered collection of unique elements.\n",
        "No concept of indexing as sets are unordered and unique.\n",
        "\n",
        "6. What is a string in Python, and how is it different from a list?\n",
        "--> Characters arranged in an unchangeable order(immutable). Consider writing a sentence, a paragraph, or a piece of material.\n",
        "message = \"hello\"\n",
        "This is a string. Its made of characters: 'h', 'e', 'l', 'l', 'o'\n",
        "A list is like a collection or box that can hold anything — numbers, words, or even other lists.\n",
        "items = [\"apple\", 42, True]\n",
        "\n",
        "This list has:\n",
        "a string (\"apple\")\n",
        "b number (42)\n",
        "c boolean (True)\n",
        "\n",
        "7. How do tuples ensure data integrity in Python?\n",
        "--> Tuples are immutable.\n",
        "Tuples can store heterogeneous.\n",
        "Once it created, the items in a tuple cannot be changed.\n",
        "\n",
        "Data integrity means:\n",
        "\n",
        "*   The data stays safe and doesn't accidentally change.\n",
        "*   You can't change them.\n",
        "*   Safer to share.\n",
        "*   Good for fixed data.\n",
        "\n",
        "8. What is a hash table, and how does it relate to dictionaries in Python?\n",
        "--> A hash table is a way to store data so you can find it very fast.\n",
        "A dictionary in Python uses a hash table behind the scenes.\n",
        "eg:\n",
        "my_dict = {\"apple\": 3, \"banana\": 5}\n",
        "*  \"apple\" is the key\n",
        "*   3 is the value\n",
        "\n",
        "9. Can lists contain different data types in Python?\n",
        "--> Lists in Python can hold different types of data all in one list.\n",
        "eg: my_list = [\"apple\", 42, 3.14, True]\n",
        "\n",
        "This list contains:\n",
        "* A string: \"apple\"\n",
        "* An integer: 42\n",
        "* A float: 3.14\n",
        "* A boolean: True\n",
        "\n",
        "10. Explain why strings are immutable in Python?\n",
        "--> Strings are immuatble because:\n",
        "* You can't change its characters directly.\n",
        "* If you want to change it, you have to make a new string.\n",
        "\n",
        "11. What advantages do dictionaries offer over lists for certain tasks?\n",
        "--> Advantages:\n",
        "1. Faster lookups: Dictionaries allow you to find values quickly using keys.\n",
        "2. Meaningful keys: You can use descriptive keys (e.g., names, IDs) instead of indexes.\n",
        "3. Flexible data structure: Dictionaries can store various data types and structures.\n",
        "\n",
        "12. Describe a scenario where using a tuple would be preferable over a list.\n",
        "--> 1. Constants: Tuples are perfect for storing constant values that shouldn't be modified.\n",
        "2. Data integrity: Tuples ensure data remains unchanged, preventing accidental modifications.\n",
        "eg:\n",
        "DAYS_OF_WEEK = (\"Monday\", \"Tuesday\", \"Wednesday\", \"Thursday\", \"Friday\", \"Saturday\", \"Sunday\")\n",
        "\n",
        "13. How do sets handle duplicate values in Python?\n",
        "--> 1. No duplicates allowed: Sets only store unique values.\n",
        "2. Duplicates are ignored: If you try to add a duplicate value, the set will ignore it.\n",
        "eg:\n",
        "my_set = {1, 2, 2, 3, 3, 3}\n",
        "print(my_set)\n",
        "<< Output: {1, 2, 3}\n",
        "\n",
        "14.  How does the “in” keyword work differently for lists and dictionaries.\n",
        "--> The in keyword helps you check for existence in lists and dictionaries.\n",
        " **Lists**\n",
        "- Checks if a value exists in the list.\n",
        "**Dictionaries**\n",
        "- Checks if a key exists in the dictionary.\n",
        "eg:\n",
        "\n",
        "my_list = [1, 2, 3]\n",
        "print(2 in my_list)  \n",
        "<<Output: True\n",
        "\n",
        "my_dict = {\"name\": \"John\", \"age\": 30}\n",
        "print(\"name\" in my_dict)\n",
        "<< Output: True\n",
        "print(\"John\" in my_dict)  \n",
        "<<Output: False (because \"John\" is a value, not a key)\n",
        "                      \n",
        "\n",
        "\n",
        "\n",
        "\n",
        "\n",
        "\n",
        "\n",
        "\n",
        "\n",
        "\n",
        "\n",
        "\n",
        "\n",
        "\n"
      ],
      "metadata": {
        "id": "20bn7tS9G_Jt"
      }
    },
    {
      "cell_type": "markdown",
      "source": [
        "15. Can you modify the elements of a tuple? Explain why or why not?\n",
        "--> No, you cannot modify the elements of a tuple.\n",
        "Why:\n",
        "1. Tuples are immutable: Tuples are designed to be unchangeable.\n",
        "2. Error if trying to modify: Attempting to modify a tuple will raise a TypeError.\n",
        "eg:\n",
        "my_tuple = (1, 2, 3)\n",
        "try:\n",
        "    my_tuple[0] = 10\n",
        "except TypeError:\n",
        "    print(\"Tuples are immutable!\")\n",
        "Tuples are meant for storing constant or unchanging data.\n",
        "\n",
        "16. What is a nested dictionary, and give an example of its use case?\n",
        "--> A nested dictionary is a dictionary that contains another dictionary as a value.\n",
        "Example:\n",
        "person = {\n",
        "    \"name\": \"John\",\n",
        "    \"age\": 30,\n",
        "    \"address\": {\n",
        "        \"street\": \"123 Main St\",\n",
        "        \"city\": \"New York\",\n",
        "        \"state\": \"NY\"\n",
        "    }\n",
        "}\n",
        "You can access nested dictionary values like this: person[\"address\"][\"city\"]\n",
        "\n",
        "17. Describe the time complexity of accessing elements in a dictionary.\n",
        "-->\n",
        "*  Fast lookup: Dictionaries use keys to access values quickly, making lookups very efficient.\n",
        "*  Average constant time: Regardless of the dictionary size, lookups usually take the same amount of time.\n",
        "\n",
        "18. In what situations are lists preferred over dictionaries?\n",
        "--> Situations:\n",
        "*  Ordered data: When the order of elements matters.\n",
        "*  Index-based access: When you need to access elements by their index (position).\n",
        "*  Duplicate values: When you need to store duplicate values.\n",
        "\n",
        "19. Why are dictionaries considered unordered, and how does that affect data retrieval?\n",
        "--> Dictionaries were considered unordered because the order of key-value pairs was not guaranteed.\n",
        "Effect on data retrieval:\n",
        "*  No reliance on order: You should access dictionary values using keys, not relying on a specific order.\n",
        "*  Fast lookup: Dictionaries provide fast lookup, regardless of order.\n",
        "\n",
        "This makes dictionaries suitable for applications where fast data retrieval is crucial, and order may or may not matter.\n",
        "\n",
        "20. Explain the difference between a list and a dictionary in terms of data retrieval.\n",
        "--> List:\n",
        "- Access elements by index (position)\n",
        "- Example: my_list[0]\n",
        "\n",
        "Dictionary:\n",
        "- Access elements by key (unique identifier)\n",
        "- Example: my_dict[\"name\"]\n",
        "\n",
        "Lists are ideal for ordered data, while dictionaries are perfect for fast lookups using meaningful keys.\n"
      ],
      "metadata": {
        "id": "2Uw_xCRDUMt7"
      }
    },
    {
      "cell_type": "markdown",
      "source": [
        "# **Practical Questions**\n"
      ],
      "metadata": {
        "id": "DpRxf4ps6qfC"
      }
    },
    {
      "cell_type": "code",
      "source": [
        "# 1. Write a code to create a string with your name and print it.\n",
        "\n",
        "my_name = \"Divyanshi\"\n",
        "print(\"My name is:\", my_name)"
      ],
      "metadata": {
        "colab": {
          "base_uri": "https://localhost:8080/"
        },
        "id": "4oeTc9Pq6t4c",
        "outputId": "4d9ec60b-037c-4c59-e311-45f0f37c4dfd"
      },
      "execution_count": 2,
      "outputs": [
        {
          "output_type": "stream",
          "name": "stdout",
          "text": [
            "My name is: Divyanshi\n"
          ]
        }
      ]
    },
    {
      "cell_type": "code",
      "source": [
        "# 2. Write a code to find the length of the string \"Hello World\".\n",
        "a = \"Hello World\"\n",
        "print(len(a))"
      ],
      "metadata": {
        "colab": {
          "base_uri": "https://localhost:8080/"
        },
        "id": "657LWCJr7UhC",
        "outputId": "484842cb-76c8-4a7b-9a89-82d4f2ae13f5"
      },
      "execution_count": 3,
      "outputs": [
        {
          "output_type": "stream",
          "name": "stdout",
          "text": [
            "11\n"
          ]
        }
      ]
    },
    {
      "cell_type": "code",
      "source": [
        "# 3. Write a code to slice the first 3 characters from the string \"Python Programming\".\n",
        "\n",
        "text = \"Python Programming\"\n",
        "first_three = text[:3]\n",
        "print(\"The first 3 characters are:\", first_three)"
      ],
      "metadata": {
        "colab": {
          "base_uri": "https://localhost:8080/"
        },
        "id": "ev7fOMcN7n7r",
        "outputId": "3c267c0f-e340-43b0-dfbc-21845ae781d6"
      },
      "execution_count": 4,
      "outputs": [
        {
          "output_type": "stream",
          "name": "stdout",
          "text": [
            "The first 3 characters are: Pyt\n"
          ]
        }
      ]
    },
    {
      "cell_type": "code",
      "source": [
        "# 4. Write a code to convert the string \"hello\" to uppercase.\n",
        "a = \"hello\"\n",
        "\n",
        "# Convert to uppercase\n",
        "uppercase_text = a.upper()\n",
        "print(\"Uppercase version:\", uppercase_text)\n"
      ],
      "metadata": {
        "colab": {
          "base_uri": "https://localhost:8080/"
        },
        "id": "Ap-yIbra8Bm4",
        "outputId": "10c135fb-b17d-491d-b1ee-5d3466ac1b0a"
      },
      "execution_count": 7,
      "outputs": [
        {
          "output_type": "stream",
          "name": "stdout",
          "text": [
            "Uppercase version: HELLO\n"
          ]
        }
      ]
    },
    {
      "cell_type": "code",
      "source": [
        "# 5.  Write a code to replace the word \"apple\" with \"orange\" in the string \"I like apple\".\n",
        "a = \"I like apple\"\n",
        "\n",
        "# Replace \"apple\" with \"orange\"\n",
        "new_string = a.replace(\"apple\", \"orange\")\n",
        "print(\"New string:\", new_string)"
      ],
      "metadata": {
        "colab": {
          "base_uri": "https://localhost:8080/"
        },
        "id": "r4pKzAD18fsU",
        "outputId": "3fdf6330-662a-49fd-c430-01007eac0e9f"
      },
      "execution_count": 8,
      "outputs": [
        {
          "output_type": "stream",
          "name": "stdout",
          "text": [
            "New string: I like orange\n"
          ]
        }
      ]
    },
    {
      "cell_type": "code",
      "source": [
        "# 6.  Write a code to create a list with numbers 1 to 5 and print it.\n",
        "a = [1, 2, 3, 4, 5]\n",
        "print(a)\n"
      ],
      "metadata": {
        "colab": {
          "base_uri": "https://localhost:8080/"
        },
        "id": "AxwcVhw18sVo",
        "outputId": "ddb545ff-d490-48f4-e925-16b37e2b0cd7"
      },
      "execution_count": 9,
      "outputs": [
        {
          "output_type": "stream",
          "name": "stdout",
          "text": [
            "[1, 2, 3, 4, 5]\n"
          ]
        }
      ]
    },
    {
      "cell_type": "code",
      "source": [
        "# 7. Write a code to append the number 10 to the list [1, 2, 3, 4]\n",
        "a = [1, 2, 3, 4]\n",
        "a.append(10)\n",
        "print(a)"
      ],
      "metadata": {
        "colab": {
          "base_uri": "https://localhost:8080/"
        },
        "id": "HRXYnUSd83H0",
        "outputId": "ccd092b8-9f7d-4cec-d4e1-6a466f635a6a"
      },
      "execution_count": 10,
      "outputs": [
        {
          "output_type": "stream",
          "name": "stdout",
          "text": [
            "[1, 2, 3, 4, 10]\n"
          ]
        }
      ]
    },
    {
      "cell_type": "code",
      "source": [
        "# 8. Write a code to remove the number 3 from the list [1, 2, 3, 4, 5]\n",
        "a = [1, 2, 3, 4, 5]\n",
        "a.remove(3)\n",
        "print(a)"
      ],
      "metadata": {
        "colab": {
          "base_uri": "https://localhost:8080/"
        },
        "id": "1-IpuXbp89Hb",
        "outputId": "593ed261-cdc5-47fa-d6e1-37504fb6efe0"
      },
      "execution_count": 11,
      "outputs": [
        {
          "output_type": "stream",
          "name": "stdout",
          "text": [
            "[1, 2, 4, 5]\n"
          ]
        }
      ]
    },
    {
      "cell_type": "code",
      "source": [
        "# 9. Write a code to access the second element in the list ['a', 'b', 'c', 'd']\n",
        "a = ['a', 'b', 'c', 'd']\n",
        "print(a[1])"
      ],
      "metadata": {
        "colab": {
          "base_uri": "https://localhost:8080/"
        },
        "id": "prdFX5359F9P",
        "outputId": "f15817c3-b9cd-42c9-cf27-e50e492eda34"
      },
      "execution_count": 12,
      "outputs": [
        {
          "output_type": "stream",
          "name": "stdout",
          "text": [
            "b\n"
          ]
        }
      ]
    },
    {
      "cell_type": "code",
      "source": [
        "# 10. Write a code to reverse the list [10, 20, 30, 40, 50]\n",
        "a = [10, 20, 30, 40, 50]\n",
        "a.reverse()\n",
        "print(a)"
      ],
      "metadata": {
        "colab": {
          "base_uri": "https://localhost:8080/"
        },
        "id": "X4oWNsr29On4",
        "outputId": "182b16b6-badb-4e98-b280-d0cce6eba62d"
      },
      "execution_count": 13,
      "outputs": [
        {
          "output_type": "stream",
          "name": "stdout",
          "text": [
            "[50, 40, 30, 20, 10]\n"
          ]
        }
      ]
    },
    {
      "cell_type": "code",
      "source": [
        "# 11. Write a code to create a tuple with the elements 100, 200, 300 and print it\n",
        "a = (100, 200, 300)\n",
        "print(a)"
      ],
      "metadata": {
        "colab": {
          "base_uri": "https://localhost:8080/"
        },
        "id": "u5--Gd2w9WZ2",
        "outputId": "e53124cc-f498-4440-c84a-f2035986027a"
      },
      "execution_count": 14,
      "outputs": [
        {
          "output_type": "stream",
          "name": "stdout",
          "text": [
            "(100, 200, 300)\n"
          ]
        }
      ]
    },
    {
      "cell_type": "code",
      "source": [
        "# 12. Write a code to access the second-to-last element of the tuple ('red', 'green', 'blue', 'yellow')\n",
        "a = ('red', 'green', 'blue', 'yellow')\n",
        "print(a[-2])"
      ],
      "metadata": {
        "colab": {
          "base_uri": "https://localhost:8080/"
        },
        "id": "1hG4VarE9eEb",
        "outputId": "10651d53-ddcb-40d8-84b7-950386299f1c"
      },
      "execution_count": 15,
      "outputs": [
        {
          "output_type": "stream",
          "name": "stdout",
          "text": [
            "blue\n"
          ]
        }
      ]
    },
    {
      "cell_type": "code",
      "source": [
        "# 13. Write a code to find the minimum number in the tuple (10, 20, 5, 15)\n",
        "a = (10, 20, 5, 15)\n",
        "print(min(a))\n"
      ],
      "metadata": {
        "colab": {
          "base_uri": "https://localhost:8080/"
        },
        "id": "8gB1HSao9mnX",
        "outputId": "ac145ee3-3942-40ec-95b0-af1b19d72f85"
      },
      "execution_count": 16,
      "outputs": [
        {
          "output_type": "stream",
          "name": "stdout",
          "text": [
            "5\n"
          ]
        }
      ]
    },
    {
      "cell_type": "code",
      "source": [
        "# 14. Write a code to find the index of the element \"cat\" in the tuple ('dog', 'cat', 'rabbit')\n",
        "a = ('dog', 'cat', 'rabbit')\n",
        "print(a.index('cat'))"
      ],
      "metadata": {
        "colab": {
          "base_uri": "https://localhost:8080/"
        },
        "id": "bCxmcYKj91cF",
        "outputId": "110d2cfc-1a32-44f1-b299-0ac3d6f795e0"
      },
      "execution_count": 17,
      "outputs": [
        {
          "output_type": "stream",
          "name": "stdout",
          "text": [
            "1\n"
          ]
        }
      ]
    },
    {
      "cell_type": "code",
      "source": [
        "# 15. Write a code to create a tuple containing three different fruits and check if \"kiwi\" is in it\n",
        "a = ('apple', 'banana', 'orange')\n",
        "print('kiwi' in a)"
      ],
      "metadata": {
        "colab": {
          "base_uri": "https://localhost:8080/"
        },
        "id": "0UEQnWPd98Ld",
        "outputId": "16c9112a-0667-4d6e-8ada-a21199882fb7"
      },
      "execution_count": 18,
      "outputs": [
        {
          "output_type": "stream",
          "name": "stdout",
          "text": [
            "False\n"
          ]
        }
      ]
    },
    {
      "cell_type": "code",
      "source": [
        "# 16. Write a code to create a set with the elements 'a', 'b', 'c' and print it\n",
        "a = {'a', 'b', 'c'}\n",
        "print(a)"
      ],
      "metadata": {
        "colab": {
          "base_uri": "https://localhost:8080/"
        },
        "id": "hm2mdPXu-E41",
        "outputId": "99966b52-cf2a-49be-b2c5-f400f2248128"
      },
      "execution_count": 19,
      "outputs": [
        {
          "output_type": "stream",
          "name": "stdout",
          "text": [
            "{'a', 'b', 'c'}\n"
          ]
        }
      ]
    },
    {
      "cell_type": "code",
      "source": [
        "# 17. Write a code to clear all elements from the set {1, 2, 3, 4, 5}\n",
        "a = {1, 2, 3, 4, 5}\n",
        "a.clear()\n",
        "print(a)"
      ],
      "metadata": {
        "colab": {
          "base_uri": "https://localhost:8080/"
        },
        "id": "JN4Tay6M-NZY",
        "outputId": "4a43e473-d63e-43b1-e51b-1d9f60ff071e"
      },
      "execution_count": 21,
      "outputs": [
        {
          "output_type": "stream",
          "name": "stdout",
          "text": [
            "set()\n"
          ]
        }
      ]
    },
    {
      "cell_type": "code",
      "source": [
        "# 18.  Write a code to remove the element 4 from the set {1, 2, 3, 4}\n",
        "a = {1, 2, 3, 4}\n",
        "a.remove(4)\n",
        "print(a)"
      ],
      "metadata": {
        "colab": {
          "base_uri": "https://localhost:8080/"
        },
        "id": "XzDp8fc1-Vuj",
        "outputId": "68c11172-ac47-4a88-a5cc-4e4286afba3c"
      },
      "execution_count": 22,
      "outputs": [
        {
          "output_type": "stream",
          "name": "stdout",
          "text": [
            "{1, 2, 3}\n"
          ]
        }
      ]
    },
    {
      "cell_type": "code",
      "source": [
        "# 19. Write a code to find the union of two sets {1, 2, 3} and {3, 4, 5}\n",
        "a = {1, 2, 3}\n",
        "b = {3, 4, 5}\n",
        "print(a.union(b))"
      ],
      "metadata": {
        "colab": {
          "base_uri": "https://localhost:8080/"
        },
        "id": "mmq7l2Xi-cPa",
        "outputId": "56363ae8-eefb-4eb0-c6c4-bebc72df50be"
      },
      "execution_count": 23,
      "outputs": [
        {
          "output_type": "stream",
          "name": "stdout",
          "text": [
            "{1, 2, 3, 4, 5}\n"
          ]
        }
      ]
    },
    {
      "cell_type": "code",
      "source": [
        "# 20. Write a code to find the intersection of two sets {1, 2, 3} and {2, 3, 4}\n",
        "a = {1, 2, 3}\n",
        "b = {2, 3, 4}\n",
        "print(a.intersection(b))"
      ],
      "metadata": {
        "colab": {
          "base_uri": "https://localhost:8080/"
        },
        "id": "LERQDFYn-ih-",
        "outputId": "3bb55791-b9ab-4b53-f45c-b192a058f0dc"
      },
      "execution_count": 25,
      "outputs": [
        {
          "output_type": "stream",
          "name": "stdout",
          "text": [
            "{2, 3}\n"
          ]
        }
      ]
    },
    {
      "cell_type": "code",
      "source": [
        "# 21.  Write a code to create a dictionary with the keys \"name\", \"age\", and \"city\", and print it\n",
        "a = {\"name\": \"Divyanshi\", \"age\": 25, \"city\": \"Lucknow\"}\n",
        "print(a)"
      ],
      "metadata": {
        "colab": {
          "base_uri": "https://localhost:8080/"
        },
        "id": "jNeX1ZkF-qL_",
        "outputId": "4c452761-aa2e-4518-ea0e-777dc2b5b470"
      },
      "execution_count": 26,
      "outputs": [
        {
          "output_type": "stream",
          "name": "stdout",
          "text": [
            "{'name': 'Divyanshi', 'age': 25, 'city': 'Lucknow'}\n"
          ]
        }
      ]
    },
    {
      "cell_type": "code",
      "source": [
        "# 22.  Write a code to add a new key-value pair \"country\": \"USA\" to the dictionary {'name': 'John', 'age': 25}\n",
        "a = {'name': 'John', 'age': 25}\n",
        "a[\"country\"] = \"USA\"\n",
        "print(a)"
      ],
      "metadata": {
        "colab": {
          "base_uri": "https://localhost:8080/"
        },
        "id": "ZmdmvkYB-1px",
        "outputId": "0fcccb82-690a-4d71-d1b7-bdc288bd60d3"
      },
      "execution_count": 27,
      "outputs": [
        {
          "output_type": "stream",
          "name": "stdout",
          "text": [
            "{'name': 'John', 'age': 25, 'country': 'USA'}\n"
          ]
        }
      ]
    },
    {
      "cell_type": "code",
      "source": [
        "# 23. Write a code to access the value associated with the key \"name\" in the dictionary {'name': 'Alice', 'age': 30}\n",
        "a = {'name': 'Alice', 'age': 30}\n",
        "print(a[\"name\"])\n"
      ],
      "metadata": {
        "colab": {
          "base_uri": "https://localhost:8080/"
        },
        "id": "RH2JqSLQ-8Eh",
        "outputId": "91ea6df2-85b9-4f1e-ed6a-9d07d0257c94"
      },
      "execution_count": 28,
      "outputs": [
        {
          "output_type": "stream",
          "name": "stdout",
          "text": [
            "Alice\n"
          ]
        }
      ]
    },
    {
      "cell_type": "code",
      "source": [
        "# 24. Write a code to remove the key \"age\" from the dictionary {'name': 'Bob', 'age': 22, 'city': 'New York'}\n",
        "a = {'name': 'Bob', 'age': 22, 'city': 'New York'}\n",
        "del a[\"age\"]\n",
        "print(a)"
      ],
      "metadata": {
        "colab": {
          "base_uri": "https://localhost:8080/"
        },
        "id": "61TV_2cB_OiQ",
        "outputId": "b40e9920-3612-40f2-fb18-4b7b6f793368"
      },
      "execution_count": 29,
      "outputs": [
        {
          "output_type": "stream",
          "name": "stdout",
          "text": [
            "{'name': 'Bob', 'city': 'New York'}\n"
          ]
        }
      ]
    },
    {
      "cell_type": "code",
      "source": [
        "# 25. Write a code to check if the key \"city\" exists in the dictionary {'name': 'Alice', 'city': 'Paris'}\n",
        "a = {'name': 'Alice', 'city': 'Paris'}\n",
        "print(\"city\" in a)"
      ],
      "metadata": {
        "colab": {
          "base_uri": "https://localhost:8080/"
        },
        "id": "l9u6ecpl_UFL",
        "outputId": "9b43ef54-7cdd-4653-a561-0ef25d2f87c2"
      },
      "execution_count": 30,
      "outputs": [
        {
          "output_type": "stream",
          "name": "stdout",
          "text": [
            "True\n"
          ]
        }
      ]
    },
    {
      "cell_type": "code",
      "source": [
        "# 26. Write a code to create a list, a tuple, and a dictionary, and print them all\n",
        "a = [1, 2, 3]\n",
        "b = (4, 5, 6)\n",
        "c = {\"name\": \"Divyanshi\", \"age\": 25, \"city\": \"Lucknow\"}"
      ],
      "metadata": {
        "id": "H5rfyZpO_a8N"
      },
      "execution_count": 31,
      "outputs": []
    },
    {
      "cell_type": "code",
      "source": [
        "'''\n",
        "27. Write a code to create a list of 5 random numbers between 1 and 100, sort it in ascending order, and print the result.(replaced)\n",
        "'''\n",
        "import random\n",
        "a = [random.randint(1, 100) for _ in range(5)]\n",
        "a.sort()\n",
        "print(a)"
      ],
      "metadata": {
        "colab": {
          "base_uri": "https://localhost:8080/"
        },
        "id": "fuoJBZWZ_itp",
        "outputId": "f6fcf3de-0654-4bca-a6ac-34a3d7430c4e"
      },
      "execution_count": 33,
      "outputs": [
        {
          "output_type": "stream",
          "name": "stdout",
          "text": [
            "[10, 41, 42, 53, 67]\n"
          ]
        }
      ]
    },
    {
      "cell_type": "code",
      "source": [
        "# 28.  Write a code to create a list with strings and print the element at the third index\n",
        "a = [\"apple\", \"banana\", \"orange\", \"grape\", \"kiwi\"]\n",
        "print(a[3])"
      ],
      "metadata": {
        "colab": {
          "base_uri": "https://localhost:8080/"
        },
        "id": "ST-T7RYxALHQ",
        "outputId": "67efb799-7efb-40e0-c218-6b4f60cf9671"
      },
      "execution_count": 34,
      "outputs": [
        {
          "output_type": "stream",
          "name": "stdout",
          "text": [
            "grape\n"
          ]
        }
      ]
    },
    {
      "cell_type": "code",
      "source": [
        "# 29. Write a code to combine two dictionaries into one and print the result\n",
        "a = {\"name\": \"Divyanshi\", \"age\": 25}\n",
        "b = {\"city\": \"Lucknow\", \"country\": \"India\"}\n",
        "a.update(b)\n",
        "print(a)"
      ],
      "metadata": {
        "colab": {
          "base_uri": "https://localhost:8080/"
        },
        "id": "iill3eH0AXQ4",
        "outputId": "440e100e-10fb-48cd-ec22-4d62d9ffb1c2"
      },
      "execution_count": 35,
      "outputs": [
        {
          "output_type": "stream",
          "name": "stdout",
          "text": [
            "{'name': 'Divyanshi', 'age': 25, 'city': 'Lucknow', 'country': 'India'}\n"
          ]
        }
      ]
    },
    {
      "cell_type": "code",
      "source": [
        "# 30.  Write a code to convert a list of strings into a set\n",
        "a = [\"apple\", \"banana\", \"orange\", \"grape\", \"kiwi\"]\n",
        "b = set(a)\n",
        "print(b)"
      ],
      "metadata": {
        "colab": {
          "base_uri": "https://localhost:8080/"
        },
        "id": "HUCdCDOSAeTo",
        "outputId": "300a2c55-0e2f-4856-f259-6449710c1657"
      },
      "execution_count": 36,
      "outputs": [
        {
          "output_type": "stream",
          "name": "stdout",
          "text": [
            "{'banana', 'grape', 'apple', 'orange', 'kiwi'}\n"
          ]
        }
      ]
    },
    {
      "cell_type": "markdown",
      "source": [
        "**Finished**\n"
      ],
      "metadata": {
        "id": "WpLgHSHbApNU"
      }
    }
  ]
}